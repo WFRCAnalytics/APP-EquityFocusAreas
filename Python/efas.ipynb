{
 "cells": [
  {
   "cell_type": "code",
   "execution_count": 1,
   "metadata": {},
   "outputs": [],
   "source": [
    "import arcpy\n",
    "from arcpy import env\n",
    "import os\n",
    "from arcgis import GIS\n",
    "from arcgis.features import GeoAccessor\n",
    "from dfply import *\n",
    "import pandas as pd\n",
    "\n",
    "arcpy.env.overwriteOutput = True\n",
    "arcpy.env.parallelProcessingFactor = \"90%\"\n",
    "\n",
    "# show all columns\n",
    "pd.options.display.max_columns = None\n",
    "\n",
    "# pd.DataFrame.spatial.from_featureclass(???)\n",
    "# df.spatial.to_featureclass(location=???,sanitize_columns=False)"
   ]
  },
  {
   "cell_type": "code",
   "execution_count": 2,
   "metadata": {},
   "outputs": [],
   "source": [
    "if not os.path.exists('Outputs'):\n",
    "    os.makedirs('Outputs')\n",
    "    \n",
    "outputs = ['.\\\\Outputs', \"scratch.gdb\", 'results.gdb']\n",
    "gdb = os.path.join(outputs[0], outputs[1])\n",
    "gdb2 = os.path.join(outputs[0], outputs[2])\n",
    "\n",
    "if not arcpy.Exists(gdb):\n",
    "    arcpy.CreateFileGDB_management(outputs[0], outputs[1])\n",
    "\n",
    "if not arcpy.Exists(gdb2):\n",
    "    arcpy.CreateFileGDB_management(outputs[0], outputs[2])"
   ]
  },
  {
   "cell_type": "code",
   "execution_count": 3,
   "metadata": {},
   "outputs": [],
   "source": [
    "wfrcboundarypath = r\"data/WFRCBoundary2018/WFRCBoundary2018.shp\"\n",
    "utahblockspath = r\"data/Utah_Census_Block_Groups_2020/CensusBlockGroups2020.shp\"\n",
    "minoritycsv = r\"data/ACSDT5Y2020.B03002/ACSDT5Y2020.B03002_data_with_overlays_2022-06-07T113506.csv\"\n",
    "vehiclescsv = r\"data/ACSDT5Y2020.B25044/ACSDT5Y2020.B25044_data_with_overlays_2022-06-07T123124.csv\"\n",
    "incomecsv = r\"data/ACSDT5Y2020.C17002/ACSDT5Y2020.C17002_data_with_overlays_2022-06-07T123423.csv\""
   ]
  },
  {
   "cell_type": "code",
   "execution_count": 5,
   "metadata": {},
   "outputs": [],
   "source": [
    "wfrcboundary = pd.DataFrame.spatial.from_featureclass(wfrcboundarypath)\n",
    "utahblocks = pd.DataFrame.spatial.from_featureclass(utahblockspath)\n",
    "minority = pd.read_csv(minoritycsv)\n",
    "vehicles = pd.read_csv(vehiclescsv)\n",
    "income = pd.read_csv(incomecsv)"
   ]
  },
  {
   "cell_type": "code",
   "execution_count": 48,
   "metadata": {},
   "outputs": [],
   "source": [
    "MinorityTable = (minority >>\n",
    "    tail(minority.shape[0] - 1) >>\n",
    "    rename(Population=X.B03002_001E,White_E=X.B03002_003E,White_M=X.B03002_003M) >>\n",
    "    mutate(Population = (X.Population).astype(float),\n",
    "           White_E = (X.White_E).astype(float),\n",
    "           White_M = (X.White_M).astype(float)\n",
    "          ) >>\n",
    "    mutate(Minority = X.Population - X.White_E) >>\n",
    "    mutate(PercMinori = (X.Minority/X.Population).round(3)) >>\n",
    "    select(\"NAME\",\"GEO_ID\",\"Population\",\"Minority\",\"PercMinori\") >>\n",
    "    mutate(Perc_Minorit = if_else(X.PercMinori > 0.4,1,0))\n",
    ")"
   ]
  },
  {
   "cell_type": "code",
   "execution_count": null,
   "metadata": {},
   "outputs": [],
   "source": [
    "VehicleTable = (vehicles >>\n",
    "    tail(minority.shape[0] - 1) >>\n",
    "    rename(TotalHH=X.B25044_001E,OwnerZeroVehs_E=X.B25044_003E,OwnerZeroVehs_M=X.B25044_003M,RenterZeroVehs_E=X.B25044_010E,RenterZeroVehs_M=X.B25044_010M) >>\n",
    "    mutate(TotalHH = (X.TotalHH).astype(float),\n",
    "           OwnerZeroVehs_E = (X.OwnerZeroVehs_E).astype(float),\n",
    "           OwnerZeroVehs_M = (X.OwnerZeroVehs_M).astype(float),\n",
    "           RenterZeroVehs_E = (X.RenterZeroVehs_E).astype(float),\n",
    "           RenterZeroVehs_M = (X.RenterZeroVehs_M).astype(float)\n",
    "         ) >>\n",
    "    mutate(ZeroCar = X.OwnerZeroVehs_E + X.RenterZeroVehs_E) >>\n",
    "    mutate(PercZeroCa = (X.ZeroCar/X.TotalHH).round(3)) >>\n",
    "    select(\"NAME\",\"GEO_ID\",\"ZeroCar\",\"PercZeroCa\") >>\n",
    "    mutate(Perc_ZeroCar = if_else(X.PercZeroCa > 0.1,1,0))\n",
    ")\n",
    "VehicleTable"
   ]
  },
  {
   "cell_type": "code",
   "execution_count": null,
   "metadata": {},
   "outputs": [],
   "source": [
    "#PovertyTable2020 <- income[-1,] %>%\n",
    "#  rename(\"pop\" = C17002_001E, \"superpoor_e\" = C17002_002E, \"superpoor_m\" = C17002_002M, \"poor_e\" = C17002_003E, \"poor_m\" = C17002_003M) %>%\n",
    "#  mutate(pop = as.numeric(pop), superpoor_e = as.numeric(superpoor_e), superpoor_m = as.numeric(superpoor_m), poor_e = as.numeric(poor_e), poor_m = as.numeric(poor_m)) %>%\n",
    "#  mutate(Poverty = superpoor_e + poor_e) %>%\n",
    "#  mutate(PercPovert = round(Poverty/pop,3)) %>%\n",
    "#  select(NAME,GEO_ID,Poverty,PercPovert) %>%\n",
    "#  mutate(Perc_Pov = ifelse(PercPovert > 0.25,1,0))\n",
    "\n",
    "PovertyTable = (income >>\n",
    "\n",
    "\n",
    ")"
   ]
  },
  {
   "cell_type": "code",
   "execution_count": null,
   "metadata": {},
   "outputs": [],
   "source": []
  },
  {
   "cell_type": "code",
   "execution_count": null,
   "metadata": {},
   "outputs": [],
   "source": []
  }
 ],
 "metadata": {
  "kernelspec": {
   "display_name": "Python 3.7.11 64-bit ('arcgispro-py3-R')",
   "language": "python",
   "name": "python3"
  },
  "language_info": {
   "codemirror_mode": {
    "name": "ipython",
    "version": 3
   },
   "file_extension": ".py",
   "mimetype": "text/x-python",
   "name": "python",
   "nbconvert_exporter": "python",
   "pygments_lexer": "ipython3",
   "version": "3.7.11"
  },
  "orig_nbformat": 4,
  "vscode": {
   "interpreter": {
    "hash": "4f3f4471468f29190730e00daebac86b08d22b9660d24df30235b1ad1895555d"
   }
  }
 },
 "nbformat": 4,
 "nbformat_minor": 2
}
