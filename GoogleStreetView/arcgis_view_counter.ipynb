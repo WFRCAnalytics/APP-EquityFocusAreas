{
 "cells": [
  {
   "cell_type": "code",
   "execution_count": 38,
   "metadata": {},
   "outputs": [],
   "source": [
    "import arcpy\n",
    "from arcpy import env\n",
    "import os\n",
    "from arcgis import GIS\n",
    "from arcgis.features import GeoAccessor\n",
    "from dfply import *\n",
    "import pandas as pd\n",
    "\n",
    "arcpy.env.overwriteOutput = True\n",
    "arcpy.env.parallelProcessingFactor = \"90%\"\n",
    "\n",
    "# show all columns\n",
    "pd.options.display.max_columns = None\n",
    "\n",
    "# pd.DataFrame.spatial.from_featureclass(???)\n",
    "# df.spatial.to_featureclass(location=???,sanitize_columns=False)"
   ]
  },
  {
   "cell_type": "code",
   "execution_count": 39,
   "metadata": {},
   "outputs": [],
   "source": [
    "if not os.path.exists('Outputs'):\n",
    "    os.makedirs('Outputs')"
   ]
  },
  {
   "cell_type": "markdown",
   "metadata": {},
   "source": [
    "## Introduction\n",
    "In this notebook, we calculate the monthly usage statistics for the maps posted online in the Gallery for Wasatch Front Regional Council. (https://wfrc.maps.arcgis.com/home/gallery.html?view=grid&sortOrder=asc&sortField=title) These maps can be categorized as Web Mapping Applications, Document Links, StoryMaps, or other types. ESRI saves the usage statistics for the Web Mapping Applications, whereas the Document Links store usage statistics elsewhere. Specifically, in this notebook we get the monthly usage statistics for a certain year for all the Web Mapping Applications."
   ]
  },
  {
   "cell_type": "markdown",
   "metadata": {},
   "source": [
    "## Connect to ArcGIS Online\n",
    "In order to get the usage statistics for the WFRC gallery maps, we first need to connect to ArcGIS Pro Online. To do this, run the following command inserting your WFRC GIS username."
   ]
  },
  {
   "cell_type": "code",
   "execution_count": 2,
   "metadata": {},
   "outputs": [
    {
     "name": "stdout",
     "output_type": "stream",
     "text": [
      "connected\n"
     ]
    }
   ],
   "source": [
    "#gis = GIS(\"https://arcgis.com\", \"user_name\")\n",
    "gis = GIS(\"https://arcgis.com\", \"cday_wfrc\")\n",
    "print(\"connected\")"
   ]
  },
  {
   "cell_type": "markdown",
   "metadata": {},
   "source": [
    "## Functions\n",
    "Below we store the function used to calculate the monthly usage value for any given map. "
   ]
  },
  {
   "cell_type": "code",
   "execution_count": 3,
   "metadata": {},
   "outputs": [],
   "source": [
    "def get_monthly_usage(gismap, year):\n",
    "    # get the last 12 months worth of usage data and convert to a pandas dataframe\n",
    "    map = pd.DataFrame(gismap.usage(\"1Y\")) \n",
    "    # create a map name columne, and divide up the date column to year, month, and day\n",
    "    map['MapName'] = gismap.title\n",
    "    map['Year'] = pd.DatetimeIndex(map['Date']).year\n",
    "    map['Month'] = pd.DatetimeIndex(map['Date']).month\n",
    "    map['Day'] = pd.DatetimeIndex(map['Date']).day\n",
    "    # filter to the desired year, group by the month, and summarize all the usages of each month\n",
    "    map = (map >>\n",
    "        mask(X.Year == year) >>\n",
    "        group_by(X.Month, X.Year, X.MapName) >>\n",
    "        summarize(monthlyUsage = X.Usage.sum())\n",
    "    )\n",
    "    # return the monthly usage statistics for the given map\n",
    "    return map"
   ]
  },
  {
   "cell_type": "markdown",
   "metadata": {},
   "source": [
    "## Read in all ESRI Tracked Online ArcGIS Maps\n",
    "Here we read in all the Web Mapping Applications on the WFRC Gallery online page. Each map is read in using their unique url id and the gis command."
   ]
  },
  {
   "cell_type": "code",
   "execution_count": 34,
   "metadata": {},
   "outputs": [],
   "source": [
    "map1 = gis.content.get('87827ba730d44a09aeeae83a8f9dc43e') # Active Transportation GIS Data Resources\n",
    "map2 = gis.content.get('50e00e43d8eb4df082aedeb2aa2b94f0') # Bike Comfort Web App\n",
    "map3 = gis.content.get('50820dd5d2914b7da80e417dafe49d52') # Data Resources for Coordinating Housing & Transportation\n",
    "map4 = gis.content.get('5184fbb871094dfeb87671d81bdbd3ee') # Existing Conditions: Wasatch Front Region\n",
    "map5 = gis.content.get('fce73f8dea5b418db18ce090ee069fe3') # Generalized Future Land Use Map\n",
    "map6 = gis.content.get('d1a3faa471264ed19d37fd4181c1f827') # Southwest Salt Lake County - Transportation Solutions\n",
    "map7 = gis.content.get('1d40a6dc0a644abc8ec84f81cebeb6b2') # Street Connectivity Analysis\n",
    "map8 = gis.content.get('8c17c889bc7848c788dabe4cee4a30a6') # Taxable Sales Comparison - 2019 to 2020 by Quarter\n",
    "map9 = gis.content.get('a07232349fe6443c9de33aab218e218f') # Transportation and Land Use Connection (TLC) Projects Map\n",
    "map10 = gis.content.get('151ffeb028f24e7d835002824b630b63') # Transportation Improvement Program (TIP) Map\n",
    "map11 = gis.content.get('e3e0428210b5474d8a889375981b03a5') # usRAP Safety Data Map\n",
    "map12 = gis.content.get('253a6472ebae4bdcac9dc2632906ac56') # UTA First Mile / Last Mile\n",
    "map13 = gis.content.get('7d1b1df5686c41b593d1e5ff5539d01a') # Walkability and Measuring Urban Street Design\n",
    "map14 = gis.content.get('1491ec0512aa43f88d27eff4bc9c71e0') # Wasatch Bike Plan\n",
    "map15 = gis.content.get('3132c740d147403d8257ad277dc000dc') # Wasatch Front Park and Trail Accessibility\n",
    "map16 = gis.content.get('e27ec6aa6fa242ed8396fe8ac29a80c7') # WFRC Housing Inventory Explorer (Jan 2020)"
   ]
  },
  {
   "cell_type": "markdown",
   "metadata": {},
   "source": [
    "## Calculate the Monthly Usage\n",
    "Using the created function, go through each map and get the monthly usage statistics for 2022. "
   ]
  },
  {
   "cell_type": "code",
   "execution_count": 35,
   "metadata": {},
   "outputs": [],
   "source": [
    "statsmap1 = get_monthly_usage(map1, 2022)\n",
    "statsmap2 = get_monthly_usage(map2, 2022)\n",
    "statsmap3 = get_monthly_usage(map3, 2022)\n",
    "statsmap4 = get_monthly_usage(map4, 2022)\n",
    "statsmap5 = get_monthly_usage(map5, 2022)\n",
    "statsmap6 = get_monthly_usage(map6, 2022)\n",
    "statsmap7 = get_monthly_usage(map7, 2022)\n",
    "statsmap8 = get_monthly_usage(map8, 2022)\n",
    "statsmap9 = get_monthly_usage(map9, 2022)\n",
    "statsmap10 = get_monthly_usage(map10, 2022)\n",
    "statsmap11 = get_monthly_usage(map11, 2022)\n",
    "statsmap12 = get_monthly_usage(map12, 2022)\n",
    "statsmap13 = get_monthly_usage(map13, 2022)\n",
    "statsmap14 = get_monthly_usage(map14, 2022)\n",
    "statsmap15 = get_monthly_usage(map15, 2022)\n",
    "statsmap16 = get_monthly_usage(map16, 2022)"
   ]
  },
  {
   "cell_type": "markdown",
   "metadata": {},
   "source": [
    "## Join Map Usage Stats and Write CSV File\n",
    "Bind all 16 map tables together to one large usage table and then write it to a csv file to the outputs folder"
   ]
  },
  {
   "cell_type": "code",
   "execution_count": null,
   "metadata": {},
   "outputs": [],
   "source": [
    "stats = pd.concat([statsmap1,statsmap2,statsmap3,statsmap4,statsmap5,statsmap6,statsmap7,statsmap8,statsmap9,statsmap10,\n",
    "                   statsmap11,statsmap12,statsmap13,statsmap14,statsmap15,statsmap16])\n",
    "stats"
   ]
  },
  {
   "cell_type": "code",
   "execution_count": 37,
   "metadata": {},
   "outputs": [],
   "source": [
    "stats.to_csv(\"Outputs/esriMapUsage.csv\")"
   ]
  },
  {
   "cell_type": "markdown",
   "metadata": {},
   "source": [
    "Helpful Links\n",
    "- https://support.esri.com/en/technical-article/000021762\n",
    "- https://developers.arcgis.com/python/guide/using-the-gis/\n",
    "- https://wfrc.maps.arcgis.com/home/notebook/notebookhome.html#"
   ]
  }
 ],
 "metadata": {
  "kernelspec": {
   "display_name": "arcgis-R",
   "language": "python",
   "name": "arcgis-r"
  },
  "language_info": {
   "codemirror_mode": {
    "name": "ipython",
    "version": 3
   },
   "file_extension": ".py",
   "mimetype": "text/x-python",
   "name": "python",
   "nbconvert_exporter": "python",
   "pygments_lexer": "ipython3",
   "version": "3.7.11"
  },
  "orig_nbformat": 4,
  "vscode": {
   "interpreter": {
    "hash": "4f3f4471468f29190730e00daebac86b08d22b9660d24df30235b1ad1895555d"
   }
  }
 },
 "nbformat": 4,
 "nbformat_minor": 2
}
